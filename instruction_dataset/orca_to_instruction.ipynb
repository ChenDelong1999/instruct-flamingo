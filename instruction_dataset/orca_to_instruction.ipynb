{
 "cells": [
  {
   "cell_type": "code",
   "execution_count": null,
   "metadata": {},
   "outputs": [],
   "source": [
    "from datasets import load_dataset\n",
    "import time\n",
    "\n",
    "dataset = load_dataset(\"/cpfs/shared/research-llm/instruc_data_en/language_only_instruct_tuning/OpenOrca\")"
   ]
  },
  {
   "cell_type": "code",
   "execution_count": 13,
   "metadata": {},
   "outputs": [],
   "source": [
    "import pandas as pd\n",
    "import os, json\n",
    "\n",
    "for file in ['1M-GPT4-Augmented', '3_5M-GPT3_5-Augmented']:\n",
    "    parquet_file_path = f'/cpfs/shared/research-llm/instruc_data_en/language_only_instruct_tuning/OpenOrca/{file}.parquet'\n",
    "    df = pd.read_parquet(parquet_file_path)\n",
    "    all_samples = []\n",
    "    for index, row in df.iterrows():\n",
    "        all_samples.append({\n",
    "            'input': row['question'],\n",
    "            'output': row['response'],\n",
    "        })\n",
    "\n",
    "    os.makedirs('converted_datasets/orca', exist_ok=True)\n",
    "    json.dump(all_samples, open(f'converted_datasets/orca/{file}.json', 'w'), indent=4)"
   ]
  }
 ],
 "metadata": {
  "kernelspec": {
   "display_name": "Python 3",
   "language": "python",
   "name": "python3"
  },
  "language_info": {
   "codemirror_mode": {
    "name": "ipython",
    "version": 3
   },
   "file_extension": ".py",
   "mimetype": "text/x-python",
   "name": "python",
   "nbconvert_exporter": "python",
   "pygments_lexer": "ipython3",
   "version": "3.9.16"
  },
  "orig_nbformat": 4
 },
 "nbformat": 4,
 "nbformat_minor": 2
}
